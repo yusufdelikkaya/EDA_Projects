{
 "cells": [
  {
   "cell_type": "markdown",
   "metadata": {},
   "source": [
    "# <p style=\"background-color:#000000; font-family:Ariel, sans-serif; color:#F6C800; font-size:200%; text-align:center; border-radius:30px; padding:40px;\"><b></b>IMDB Movie Dataset Analysis</p>\n",
    "\n",
    "<div align=\"center\" style=\"margin-top: 20px;\">\n",
    "    <img src=\"https://upload.wikimedia.org/wikipedia/commons/thumb/6/69/IMDB_Logo_2016.svg/1920px-IMDB_Logo_2016.svg.png\" \n",
    "         alt=\"Data Science Trends\" \n",
    "         style=\"max-width: 100%; height: auto; border-radius: 100px; box-shadow: 0 4px 8px rgba(0, 0, 0, 0.1);\" />\n",
    "</div>"
   ]
  },
  {
   "cell_type": "markdown",
   "metadata": {},
   "source": [
    "<div align=\"left\" style=\"font-size:25px; font-weight:bold;\">\n",
    "    📊 Yusuf Delikkaya \n",
    "</div>\n",
    "\n",
    "<br>\n",
    "\n",
    "<p align=\"left\" style=\"font-size:18px; font-weight:bold;\">\n",
    "    🚀 Discover My Projects and Stay Connected! \n",
    "</p>\n",
    "\n",
    "<p align=\"left\" style=\"font-size:15px;\">\n",
    "🌍 If you're interested in my other projects, don't forget to follow me on these platforms:\n",
    "</p>\n",
    "\n",
    "<p align=\"left\">\n",
    "    <a href=\"https://linktr.ee/yusufdelikkaya\" target=\"_blank\" style=\"text-decoration:none;\">\n",
    "        <img src=\"https://img.shields.io/badge/Linktree-39E09B?style=for-the-badge&logo=linktree&logoColor=white\" alt=\"Linktree\" />\n",
    "    </a>\n",
    "    <a href=\"https://www.linkedin.com/in/yusufdelikkaya\" target=\"_blank\" style=\"text-decoration:none;\">\n",
    "        <img src=\"https://img.shields.io/badge/LinkedIn-0A66C2?style=for-the-badge&logo=linkedin&logoColor=white\" alt=\"LinkedIn\" />\n",
    "    </a>\n",
    "    <a href=\"https://www.kaggle.com/yusufdelikkaya\" target=\"_blank\" style=\"text-decoration:none;\">\n",
    "        <img src=\"https://img.shields.io/badge/Kaggle-20BEFF?style=for-the-badge&logo=kaggle&logoColor=white\" alt=\"Kaggle\" />\n",
    "    </a>\n",
    "    <a href=\"https://github.com/yusufdelikkaya\" target=\"_blank\" style=\"text-decoration:none;\">\n",
    "        <img src=\"https://img.shields.io/badge/GitHub-181717?style=for-the-badge&logo=github&logoColor=white\" alt=\"GitHub\" />\n",
    "    </a>\n",
    "    <a href=\"https://public.tableau.com/app/profile/yusuf.delikkaya/vizzes\" target=\"_blank\" style=\"text-decoration:none;\">\n",
    "        <img src=\"https://img.shields.io/badge/Tableau-E97627?style=for-the-badge&logo=tableau&logoColor=white\" alt=\"Tableau\" />\n",
    "    </a>\n",
    "</p>\n"
   ]
  },
  {
   "cell_type": "markdown",
   "metadata": {},
   "source": [
    "# 📌 Project Summary\n",
    "\n",
    "- The purpose of this project is to perform exploratory data analysis (EDA) on movie data.\n",
    "- Various visualization libraries will be used to uncover relationships between different features.\n",
    "\n",
    "<br>\n",
    "\n",
    "### Data Set\n",
    "\n",
    "- The dataset includes data about 1000 movies released between 2006 and 2016.\n",
    "- The dataset consists of 1000 rows and each row represents a movie.\n",
    "- There are 12 different columns in total, as outlined below:\n",
    "\n",
    "<br>\n",
    "\n",
    "| Column        | Description                                         |\n",
    "|---------------|-----------------------------------------------------|\n",
    "| **Rank**    | Film ranking                                        |\n",
    "| **Title**   | Movie title                                         |\n",
    "| **Genre**   | Genre(s) of the movie                               |\n",
    "| **Description** | Short summary of the movie                     |\n",
    "| **Director** | Director of the movie                             |\n",
    "| **Actors**  | Leading actors in the movie                        |\n",
    "| **Year**    | Release year of the movie                          |\n",
    "| **Runtime** | Duration of the movie (in minutes)                 |\n",
    "| **Rating**  | IMDb rating                                        |\n",
    "| **Votes**   | Number of votes                                    |\n",
    "| **Revenue (Millions)** | Box office revenue (in millions of USD) |\n",
    "| **Metascore** | Metascore rating                                 |\n",
    "\n",
    "\n",
    "\n",
    "<b>📋 TABLE OF CONTENTS 📋</b>\n",
    "<ul>\n",
    "<li><a href=\"#step-1\">1| Import Libraries and Loading the Dataset</a></li>\n",
    "<li><a href=\"#step-2\">2| Initial Exploration and Analyzing Values</a></li>\n",
    "<li><a href=\"#step-3\">3| Organizing and Manipulating Data</a></li>\n",
    "<li><a href=\"#step-4\">4| Data Visualization</a></li>\n",
    "<li><a href=\"#step-5\">5| Conclusion</a></li>\n",
    "</ul>"
   ]
  },
  {
   "cell_type": "markdown",
   "metadata": {},
   "source": [
    "<a id='step-1'></a>\n",
    "# <p style=\"background-color:#000000; font-family:Verdana, sans-serif; color:#F6C800; font-size:100%; text-align:center; border-radius:10px; padding:20px;\"><b>1| Import Libraries and Loading the Dataset</b></p>"
   ]
  },
  {
   "cell_type": "markdown",
   "metadata": {},
   "source": [
    "<p style=\"background-color:#F6C800; font-family:Verdana, sans-serif; color:#000000; font-size:150%; text-align:left; border-radius:50px; padding:10px;\"><b>1.1.| Import Libraries & Configure Settings</b></p>"
   ]
  },
  {
   "cell_type": "code",
   "execution_count": null,
   "metadata": {
    "execution": {
     "iopub.execute_input": "2024-10-31T12:21:19.186124Z",
     "iopub.status.busy": "2024-10-31T12:21:19.185709Z",
     "iopub.status.idle": "2024-10-31T12:21:20.091965Z",
     "shell.execute_reply": "2024-10-31T12:21:20.090883Z",
     "shell.execute_reply.started": "2024-10-31T12:21:19.186083Z"
    },
    "trusted": true
   },
   "outputs": [],
   "source": [
    "# Import Libraries\n",
    "import numpy as np  # Used for numerical calculations and data manipulation.\n",
    "\n",
    "import pandas as pd  # Used for data analysis and handling data structures (DataFrame, Series).\n",
    "\n",
    "import matplotlib.pyplot as plt  # Basic library for 2D plotting and data visualization.\n",
    "\n",
    "import seaborn as sns  # Used for statistical data visualization. It is built on top of Matplotlib.\n",
    "\n",
    "import missingno as msno  # Used for visualizing and analyzing missing data.\n",
    "\n",
    "import plotly.express as px  # Used for interactive charts and data visualization.\n",
    "\n",
    "from skimpy import skim  # Used for quick summarization and inspection of data.\n",
    "\n",
    "from collections import Counter # Used for frequency analysis, tallying results, and simplifying counting tasks.\n",
    "\n",
    "import plotly.io as pio\n",
    "pio.renderers.default = 'notebook'\n",
    "\n",
    "# Modify Pandas Display Settings\n",
    "pd.set_option('display.float_format', '{:.0f}'.format)  # Sets the decimal precision for numbers.\n",
    "pd.set_option('display.max_columns', None)  # Ensures all columns are displayed.\n",
    "pd.set_option('display.max_rows', None)  # Ensures all rows are displayed.\n",
    "\n",
    "# Warning Settings\n",
    "import warnings  # Used to control and manage warning messages.\n",
    "warnings.filterwarnings(\"ignore\")  # Ignores warning messages.\n",
    "warnings.warn(\"this will not show\")  # An example warning message, but it will be suppressed by the ignore filter."
   ]
  },
  {
   "cell_type": "markdown",
   "metadata": {},
   "source": [
    "<p style=\"background-color:#F6C800; font-family:Verdana, sans-serif; color:#000000; font-size:150%; text-align:left; border-radius:50px; padding:10px;\"><b>1.2.| Loading & Reading Dataset</b></p>"
   ]
  },
  {
   "cell_type": "code",
   "execution_count": null,
   "metadata": {
    "execution": {
     "iopub.execute_input": "2024-10-31T12:21:20.094508Z",
     "iopub.status.busy": "2024-10-31T12:21:20.093421Z",
     "iopub.status.idle": "2024-10-31T12:21:20.134027Z",
     "shell.execute_reply": "2024-10-31T12:21:20.133078Z",
     "shell.execute_reply.started": "2024-10-31T12:21:20.094458Z"
    },
    "trusted": true
   },
   "outputs": [],
   "source": [
    "# Loading & Reading Dataset\n",
    "df_original = pd.read_csv(\"imdb_movie_dataset.csv\", index_col=\"Title\")\n",
    "\n",
    "# Making a copy\n",
    "df = df_original.copy()"
   ]
  },
  {
   "cell_type": "markdown",
   "metadata": {},
   "source": [
    "<p style=\"background-color:#F6C800; font-family:Verdana, sans-serif; color:#000000; font-size:150%; text-align:left; border-radius:50px; padding:10px;\"><b>1.3.| Data Sample</b></p>"
   ]
  },
  {
   "cell_type": "code",
   "execution_count": null,
   "metadata": {
    "execution": {
     "iopub.execute_input": "2024-10-31T12:21:20.136615Z",
     "iopub.status.busy": "2024-10-31T12:21:20.136266Z",
     "iopub.status.idle": "2024-10-31T12:21:20.159792Z",
     "shell.execute_reply": "2024-10-31T12:21:20.158843Z",
     "shell.execute_reply.started": "2024-10-31T12:21:20.136580Z"
    },
    "trusted": true
   },
   "outputs": [],
   "source": [
    "# Checking Dataset\n",
    "df.sample(5)"
   ]
  },
  {
   "cell_type": "markdown",
   "metadata": {},
   "source": [
    "<a id='step-2'></a>\n",
    "# <p style=\"background-color:#000000; font-family:Verdana, sans-serif; color:#F6C800; font-size:100%; text-align:center; border-radius:10px; padding:20px;\"><b>2| Initial Exploration and Analyzing Values</b></p>"
   ]
  },
  {
   "cell_type": "code",
   "execution_count": null,
   "metadata": {
    "execution": {
     "iopub.execute_input": "2024-10-31T12:21:20.161855Z",
     "iopub.status.busy": "2024-10-31T12:21:20.161495Z",
     "iopub.status.idle": "2024-10-31T12:21:20.282070Z",
     "shell.execute_reply": "2024-10-31T12:21:20.281088Z",
     "shell.execute_reply.started": "2024-10-31T12:21:20.161802Z"
    },
    "trusted": true
   },
   "outputs": [],
   "source": [
    "# Dataset Initial Summary by Skimpy Library\n",
    "skim(df)"
   ]
  },
  {
   "cell_type": "code",
   "execution_count": null,
   "metadata": {
    "execution": {
     "iopub.execute_input": "2024-10-31T12:21:20.283526Z",
     "iopub.status.busy": "2024-10-31T12:21:20.283204Z",
     "iopub.status.idle": "2024-10-31T12:21:20.301561Z",
     "shell.execute_reply": "2024-10-31T12:21:20.300392Z",
     "shell.execute_reply.started": "2024-10-31T12:21:20.283486Z"
    },
    "trusted": true
   },
   "outputs": [],
   "source": [
    "df.info()"
   ]
  },
  {
   "cell_type": "code",
   "execution_count": null,
   "metadata": {
    "execution": {
     "iopub.execute_input": "2024-10-31T12:21:20.303712Z",
     "iopub.status.busy": "2024-10-31T12:21:20.303242Z",
     "iopub.status.idle": "2024-10-31T12:21:20.333040Z",
     "shell.execute_reply": "2024-10-31T12:21:20.331907Z",
     "shell.execute_reply.started": "2024-10-31T12:21:20.303665Z"
    },
    "trusted": true
   },
   "outputs": [],
   "source": [
    "df.describe().T"
   ]
  },
  {
   "cell_type": "code",
   "execution_count": null,
   "metadata": {
    "execution": {
     "iopub.execute_input": "2024-10-31T12:21:20.334546Z",
     "iopub.status.busy": "2024-10-31T12:21:20.334227Z",
     "iopub.status.idle": "2024-10-31T12:21:20.354750Z",
     "shell.execute_reply": "2024-10-31T12:21:20.353689Z",
     "shell.execute_reply.started": "2024-10-31T12:21:20.334515Z"
    },
    "trusted": true
   },
   "outputs": [],
   "source": [
    "df.describe(include= \"object\").T"
   ]
  },
  {
   "cell_type": "code",
   "execution_count": null,
   "metadata": {
    "execution": {
     "iopub.execute_input": "2024-10-31T12:21:20.356391Z",
     "iopub.status.busy": "2024-10-31T12:21:20.355986Z",
     "iopub.status.idle": "2024-10-31T12:21:20.382856Z",
     "shell.execute_reply": "2024-10-31T12:21:20.381678Z",
     "shell.execute_reply.started": "2024-10-31T12:21:20.356352Z"
    },
    "trusted": true
   },
   "outputs": [],
   "source": [
    "# Viewing Null, Unique and Duplicated Values\n",
    "\n",
    "pd.DataFrame({\n",
    "                'Count':df.shape[0],\n",
    "                'Column':df.shape[1],\n",
    "                'Size':df.size,\n",
    "                'Null':df.isnull().sum(),\n",
    "                'Null %':df.isnull().mean() * 100,\n",
    "                'Not-Null':df.notnull().sum(),\n",
    "                'Unique':df.nunique(),\n",
    "                'Duplicated':df.duplicated().sum()\n",
    "})"
   ]
  },
  {
   "cell_type": "markdown",
   "metadata": {},
   "source": [
    "<a id='step-3'></a>\n",
    "# <p style=\"background-color:#000000; font-family:Verdana, sans-serif; color:#F6C800; font-size:100%; text-align:center; border-radius:10px; padding:20px;\"><b>3| Organizing and Manipulating Data</b></p>"
   ]
  },
  {
   "cell_type": "markdown",
   "metadata": {},
   "source": [
    "<p style=\"background-color:#F6C800; font-family:Verdana, sans-serif; color:#000000; font-size:150%; text-align:left; border-radius:50px; padding:10px;\"><b>3.1.| Column Names</b></p>"
   ]
  },
  {
   "cell_type": "code",
   "execution_count": null,
   "metadata": {
    "execution": {
     "iopub.execute_input": "2024-10-31T12:21:20.387609Z",
     "iopub.status.busy": "2024-10-31T12:21:20.387248Z",
     "iopub.status.idle": "2024-10-31T12:21:20.394232Z",
     "shell.execute_reply": "2024-10-31T12:21:20.393237Z",
     "shell.execute_reply.started": "2024-10-31T12:21:20.387562Z"
    },
    "trusted": true
   },
   "outputs": [],
   "source": [
    "# Viewing column names with List Compherension\n",
    "[i for i in df.columns]"
   ]
  },
  {
   "cell_type": "code",
   "execution_count": null,
   "metadata": {
    "execution": {
     "iopub.execute_input": "2024-10-31T12:21:20.395779Z",
     "iopub.status.busy": "2024-10-31T12:21:20.395404Z",
     "iopub.status.idle": "2024-10-31T12:21:20.404914Z",
     "shell.execute_reply": "2024-10-31T12:21:20.403888Z",
     "shell.execute_reply.started": "2024-10-31T12:21:20.395739Z"
    },
    "trusted": true
   },
   "outputs": [],
   "source": [
    "# Method 1\n",
    "\n",
    "df.columns = [  'rank', \n",
    "                'genre', \n",
    "                'description', \n",
    "                'director', \n",
    "                'actors', \n",
    "                'year',\n",
    "                'runtime', \n",
    "                'rating', \n",
    "                'votes', \n",
    "                'revenue',\n",
    "                'metascore'  ]\n",
    "\n",
    "[i for i in df.columns]"
   ]
  },
  {
   "cell_type": "code",
   "execution_count": null,
   "metadata": {
    "execution": {
     "iopub.execute_input": "2024-10-31T12:21:20.406545Z",
     "iopub.status.busy": "2024-10-31T12:21:20.406160Z",
     "iopub.status.idle": "2024-10-31T12:21:20.415488Z",
     "shell.execute_reply": "2024-10-31T12:21:20.414483Z",
     "shell.execute_reply.started": "2024-10-31T12:21:20.406502Z"
    },
    "trusted": true
   },
   "outputs": [],
   "source": [
    "# Method 2\n",
    "\n",
    "df.columns = [col.lower() for col in df]\n",
    "\n",
    "[i for i in df.columns]"
   ]
  },
  {
   "cell_type": "markdown",
   "metadata": {},
   "source": [
    "<p style=\"background-color:#F6C800; font-family:Verdana, sans-serif; color:#000000; font-size:150%; text-align:left; border-radius:50px; padding:10px;\"><b>3.2.| Null Values</b></p>"
   ]
  },
  {
   "cell_type": "code",
   "execution_count": null,
   "metadata": {
    "execution": {
     "iopub.execute_input": "2024-10-31T12:21:20.417457Z",
     "iopub.status.busy": "2024-10-31T12:21:20.416840Z",
     "iopub.status.idle": "2024-10-31T12:21:20.428074Z",
     "shell.execute_reply": "2024-10-31T12:21:20.427150Z",
     "shell.execute_reply.started": "2024-10-31T12:21:20.417410Z"
    },
    "trusted": true
   },
   "outputs": [],
   "source": [
    "# Null Values in Columns\n",
    "df.isnull().sum()"
   ]
  },
  {
   "cell_type": "code",
   "execution_count": null,
   "metadata": {
    "execution": {
     "iopub.execute_input": "2024-10-31T12:21:20.429608Z",
     "iopub.status.busy": "2024-10-31T12:21:20.429281Z",
     "iopub.status.idle": "2024-10-31T12:21:20.439537Z",
     "shell.execute_reply": "2024-10-31T12:21:20.438541Z",
     "shell.execute_reply.started": "2024-10-31T12:21:20.429575Z"
    },
    "trusted": true
   },
   "outputs": [],
   "source": [
    "# Total of Null Values in Columns\n",
    "print(f\"Total of Null Values in Columns: {df.isnull().sum().sum()}\")"
   ]
  },
  {
   "cell_type": "code",
   "execution_count": null,
   "metadata": {
    "execution": {
     "iopub.execute_input": "2024-10-31T12:21:20.441548Z",
     "iopub.status.busy": "2024-10-31T12:21:20.441161Z",
     "iopub.status.idle": "2024-10-31T12:21:21.347787Z",
     "shell.execute_reply": "2024-10-31T12:21:21.346743Z",
     "shell.execute_reply.started": "2024-10-31T12:21:20.441513Z"
    },
    "trusted": true
   },
   "outputs": [],
   "source": [
    "msno.matrix(df);"
   ]
  },
  {
   "cell_type": "markdown",
   "metadata": {},
   "source": [
    "<p style=\"background-color:#000000; font-family:Verdana, sans-serif; color:#F6C800; font-size:150%; text-align:left; border-radius:50px; padding:10px;\"><b>3.2.1.| revenue Column</b></p>"
   ]
  },
  {
   "cell_type": "code",
   "execution_count": null,
   "metadata": {
    "execution": {
     "iopub.execute_input": "2024-10-31T12:21:21.350235Z",
     "iopub.status.busy": "2024-10-31T12:21:21.349333Z",
     "iopub.status.idle": "2024-10-31T12:21:21.359397Z",
     "shell.execute_reply": "2024-10-31T12:21:21.358337Z",
     "shell.execute_reply.started": "2024-10-31T12:21:21.350184Z"
    },
    "trusted": true
   },
   "outputs": [],
   "source": [
    "# Column with a most Null value is revenue\n",
    "df.isnull().sum()"
   ]
  },
  {
   "cell_type": "code",
   "execution_count": null,
   "metadata": {
    "execution": {
     "iopub.execute_input": "2024-10-31T12:21:21.361019Z",
     "iopub.status.busy": "2024-10-31T12:21:21.360634Z",
     "iopub.status.idle": "2024-10-31T12:21:21.371249Z",
     "shell.execute_reply": "2024-10-31T12:21:21.370210Z",
     "shell.execute_reply.started": "2024-10-31T12:21:21.360985Z"
    },
    "trusted": true
   },
   "outputs": [],
   "source": [
    "df.revenue.sample(5)"
   ]
  },
  {
   "cell_type": "code",
   "execution_count": null,
   "metadata": {
    "execution": {
     "iopub.execute_input": "2024-10-31T12:21:21.372725Z",
     "iopub.status.busy": "2024-10-31T12:21:21.372419Z",
     "iopub.status.idle": "2024-10-31T12:21:21.381346Z",
     "shell.execute_reply": "2024-10-31T12:21:21.380457Z",
     "shell.execute_reply.started": "2024-10-31T12:21:21.372694Z"
    },
    "trusted": true
   },
   "outputs": [],
   "source": [
    "print(f\"revenue mean: {df.revenue.mean()}\\nrevenue median: {df.revenue.median()}\")"
   ]
  },
  {
   "cell_type": "code",
   "execution_count": null,
   "metadata": {
    "execution": {
     "iopub.execute_input": "2024-10-31T12:21:21.382962Z",
     "iopub.status.busy": "2024-10-31T12:21:21.382551Z",
     "iopub.status.idle": "2024-10-31T12:21:21.391064Z",
     "shell.execute_reply": "2024-10-31T12:21:21.390023Z",
     "shell.execute_reply.started": "2024-10-31T12:21:21.382918Z"
    },
    "trusted": true
   },
   "outputs": [],
   "source": [
    "# Filling Null values with median\n",
    "df.revenue.fillna(df.revenue.median(), inplace= True)"
   ]
  },
  {
   "cell_type": "markdown",
   "metadata": {},
   "source": [
    "<p style=\"background-color:#000000; font-family:Verdana, sans-serif; color:#F6C800; font-size:150%; text-align:left; border-radius:50px; padding:10px;\"><b>3.2.2.| metascore Column</b></p>"
   ]
  },
  {
   "cell_type": "code",
   "execution_count": null,
   "metadata": {
    "execution": {
     "iopub.execute_input": "2024-10-31T12:21:21.392540Z",
     "iopub.status.busy": "2024-10-31T12:21:21.392211Z",
     "iopub.status.idle": "2024-10-31T12:21:21.402791Z",
     "shell.execute_reply": "2024-10-31T12:21:21.401670Z",
     "shell.execute_reply.started": "2024-10-31T12:21:21.392507Z"
    },
    "trusted": true
   },
   "outputs": [],
   "source": [
    "# After handling revenue, Column with a most Null value is metascore\n",
    "df.isnull().sum()"
   ]
  },
  {
   "cell_type": "code",
   "execution_count": null,
   "metadata": {
    "execution": {
     "iopub.execute_input": "2024-10-31T12:21:21.404907Z",
     "iopub.status.busy": "2024-10-31T12:21:21.404210Z",
     "iopub.status.idle": "2024-10-31T12:21:21.414322Z",
     "shell.execute_reply": "2024-10-31T12:21:21.413219Z",
     "shell.execute_reply.started": "2024-10-31T12:21:21.404859Z"
    },
    "trusted": true
   },
   "outputs": [],
   "source": [
    "# Dropping the rows that have Null Values in the metascore Column\n",
    "df = df.dropna()\n",
    "print(\"Dropping the rows that have Null Values in the metascore Column\")"
   ]
  },
  {
   "cell_type": "code",
   "execution_count": null,
   "metadata": {
    "execution": {
     "iopub.execute_input": "2024-10-31T12:21:21.415994Z",
     "iopub.status.busy": "2024-10-31T12:21:21.415583Z",
     "iopub.status.idle": "2024-10-31T12:21:21.425711Z",
     "shell.execute_reply": "2024-10-31T12:21:21.424643Z",
     "shell.execute_reply.started": "2024-10-31T12:21:21.415947Z"
    },
    "trusted": true
   },
   "outputs": [],
   "source": [
    "# There are no Null values left\n",
    "df.isnull().sum()"
   ]
  },
  {
   "cell_type": "code",
   "execution_count": null,
   "metadata": {
    "execution": {
     "iopub.execute_input": "2024-10-31T12:21:21.427667Z",
     "iopub.status.busy": "2024-10-31T12:21:21.427200Z",
     "iopub.status.idle": "2024-10-31T12:21:22.023687Z",
     "shell.execute_reply": "2024-10-31T12:21:22.022372Z",
     "shell.execute_reply.started": "2024-10-31T12:21:21.427621Z"
    },
    "trusted": true
   },
   "outputs": [],
   "source": [
    "msno.matrix(df);"
   ]
  },
  {
   "cell_type": "markdown",
   "metadata": {},
   "source": [
    "<p style=\"background-color:#F6C800; font-family:Verdana, sans-serif; color:#000000; font-size:150%; text-align:left; border-radius:50px; padding:10px;\"><b>3.3.| Generating Top 250 Movies Dataset</b></p>\n",
    "\n",
    "- **Select Top 250 Movies have most rating and create a new data set named top250. Also download this data set on your computer as top250.csv**"
   ]
  },
  {
   "cell_type": "code",
   "execution_count": null,
   "metadata": {
    "ExecuteTime": {
     "end_time": "2023-09-24T15:09:00.630452Z",
     "start_time": "2023-09-24T15:09:00.601326Z"
    },
    "execution": {
     "iopub.execute_input": "2024-10-31T12:21:22.026184Z",
     "iopub.status.busy": "2024-10-31T12:21:22.025724Z",
     "iopub.status.idle": "2024-10-31T12:21:22.043426Z",
     "shell.execute_reply": "2024-10-31T12:21:22.042387Z",
     "shell.execute_reply.started": "2024-10-31T12:21:22.026136Z"
    },
    "trusted": true
   },
   "outputs": [],
   "source": [
    "top250 = df.sort_values('rating', ascending=False)\n",
    "top250 = top250[:250]\n",
    "top250.head()"
   ]
  },
  {
   "cell_type": "code",
   "execution_count": null,
   "metadata": {
    "ExecuteTime": {
     "end_time": "2023-09-24T15:09:00.652924Z",
     "start_time": "2023-09-24T15:09:00.634455Z"
    },
    "execution": {
     "iopub.execute_input": "2024-10-31T12:21:22.044965Z",
     "iopub.status.busy": "2024-10-31T12:21:22.044605Z",
     "iopub.status.idle": "2024-10-31T12:21:22.056746Z",
     "shell.execute_reply": "2024-10-31T12:21:22.055570Z",
     "shell.execute_reply.started": "2024-10-31T12:21:22.044930Z"
    },
    "trusted": true
   },
   "outputs": [],
   "source": [
    "# Dataset to csv\n",
    "top250.to_csv('top250.csv')\n",
    "print(\"'top250.csv' Dataset to csv\")"
   ]
  },
  {
   "cell_type": "markdown",
   "metadata": {},
   "source": [
    "<p style=\"background-color:#F6C800; font-family:Verdana, sans-serif; color:#000000; font-size:150%; text-align:left; border-radius:50px; padding:10px;\"><b>3.4.| Data Analysis With Top 250 Movies Dataset</b></p>"
   ]
  },
  {
   "cell_type": "code",
   "execution_count": null,
   "metadata": {
    "execution": {
     "iopub.execute_input": "2024-10-31T12:21:22.058331Z",
     "iopub.status.busy": "2024-10-31T12:21:22.058007Z",
     "iopub.status.idle": "2024-10-31T12:21:22.153893Z",
     "shell.execute_reply": "2024-10-31T12:21:22.152886Z",
     "shell.execute_reply.started": "2024-10-31T12:21:22.058297Z"
    },
    "trusted": true
   },
   "outputs": [],
   "source": [
    "# Top 250 Movies Dataset Inıtial Summary by Skimpy Library\n",
    "skim(top250)"
   ]
  },
  {
   "cell_type": "code",
   "execution_count": null,
   "metadata": {
    "execution": {
     "iopub.execute_input": "2024-10-31T12:21:22.156183Z",
     "iopub.status.busy": "2024-10-31T12:21:22.155399Z",
     "iopub.status.idle": "2024-10-31T12:21:22.177503Z",
     "shell.execute_reply": "2024-10-31T12:21:22.176571Z",
     "shell.execute_reply.started": "2024-10-31T12:21:22.156134Z"
    },
    "trusted": true
   },
   "outputs": [],
   "source": [
    "# Viewing Null, Unique and Duplicated Values\n",
    "\n",
    "pd.DataFrame({\n",
    "                'Count':top250.shape[0],\n",
    "                'Column':top250.shape[1],\n",
    "                'Size':top250.size,\n",
    "                'Null':top250.isnull().sum(),\n",
    "                'Null %':top250.isnull().mean() * 100,\n",
    "                'Not-Null':top250.notnull().sum(),\n",
    "                'Unique':top250.nunique(),\n",
    "                'Duplicated':top250.duplicated().sum()\n",
    "})"
   ]
  },
  {
   "cell_type": "code",
   "execution_count": null,
   "metadata": {
    "execution": {
     "iopub.execute_input": "2024-10-31T12:21:22.182644Z",
     "iopub.status.busy": "2024-10-31T12:21:22.182238Z",
     "iopub.status.idle": "2024-10-31T12:21:22.196249Z",
     "shell.execute_reply": "2024-10-31T12:21:22.195283Z",
     "shell.execute_reply.started": "2024-10-31T12:21:22.182609Z"
    },
    "trusted": true
   },
   "outputs": [],
   "source": [
    "top250.sample(5)"
   ]
  },
  {
   "cell_type": "code",
   "execution_count": null,
   "metadata": {
    "execution": {
     "iopub.execute_input": "2024-10-31T12:21:22.197769Z",
     "iopub.status.busy": "2024-10-31T12:21:22.197443Z",
     "iopub.status.idle": "2024-10-31T12:21:22.210312Z",
     "shell.execute_reply": "2024-10-31T12:21:22.209196Z",
     "shell.execute_reply.started": "2024-10-31T12:21:22.197736Z"
    },
    "trusted": true
   },
   "outputs": [],
   "source": [
    "top250.info()"
   ]
  },
  {
   "cell_type": "code",
   "execution_count": null,
   "metadata": {
    "execution": {
     "iopub.execute_input": "2024-10-31T12:21:22.211937Z",
     "iopub.status.busy": "2024-10-31T12:21:22.211592Z",
     "iopub.status.idle": "2024-10-31T12:21:22.241380Z",
     "shell.execute_reply": "2024-10-31T12:21:22.240407Z",
     "shell.execute_reply.started": "2024-10-31T12:21:22.211904Z"
    },
    "trusted": true
   },
   "outputs": [],
   "source": [
    "top250.describe().T"
   ]
  },
  {
   "cell_type": "markdown",
   "metadata": {},
   "source": [
    "<a id='step-4'></a>\n",
    "# <p style=\"background-color:#000000; font-family:Verdana, sans-serif; color:#F6C800; font-size:100%; text-align:center; border-radius:10px; padding:20px;\"><b>4| Data Visualization</b></p>"
   ]
  },
  {
   "cell_type": "markdown",
   "metadata": {},
   "source": [
    "<p style=\"background-color:#F6C800; font-family:Verdana, sans-serif; color:#000000; font-size:150%; text-align:left; border-radius:50px; padding:10px;\"><b>4.1.| Number of Movies Released by Years</b></p>"
   ]
  },
  {
   "cell_type": "markdown",
   "metadata": {},
   "source": [
    "<p style=\"background-color:#000000; font-family:Verdana, sans-serif; color:#F6C800; font-size:150%; text-align:left; border-radius:50px; padding:10px;\"><b>4.1.1.| Line Chart: Number of Movies Released by Years</b></p>"
   ]
  },
  {
   "cell_type": "code",
   "execution_count": null,
   "metadata": {
    "execution": {
     "iopub.execute_input": "2024-10-31T12:21:22.242959Z",
     "iopub.status.busy": "2024-10-31T12:21:22.242609Z",
     "iopub.status.idle": "2024-10-31T12:21:22.454499Z",
     "shell.execute_reply": "2024-10-31T12:21:22.453510Z",
     "shell.execute_reply.started": "2024-10-31T12:21:22.242925Z"
    },
    "trusted": true
   },
   "outputs": [],
   "source": [
    "# Line Chart: Number of Movies Released by Years\n",
    "movies_per_year = top250['year'].value_counts().sort_index()\n",
    "\n",
    "plt.plot(movies_per_year.index, movies_per_year.values, color='blue')\n",
    "\n",
    "plt.xlabel('Years')\n",
    "plt.ylabel('Movie Numbers')\n",
    "\n",
    "plt.title('Number of Movies Released by Years')\n",
    "\n",
    "for x, y in zip(movies_per_year.index, movies_per_year.values):\n",
    "    plt.text(x, y + 0.15, str(y), ha='center', va='bottom', fontsize=9)\n",
    "\n",
    "plt.show()"
   ]
  },
  {
   "cell_type": "markdown",
   "metadata": {},
   "source": [
    "<p style=\"background-color:#000000; font-family:Verdana, sans-serif; color:#F6C800; font-size:150%; text-align:left; border-radius:50px; padding:10px;\"><b>4.1.2.| Bar Chart: Number of Movies Released by Years</b></p>"
   ]
  },
  {
   "cell_type": "code",
   "execution_count": null,
   "metadata": {
    "execution": {
     "iopub.execute_input": "2024-10-31T12:21:22.456099Z",
     "iopub.status.busy": "2024-10-31T12:21:22.455754Z",
     "iopub.status.idle": "2024-10-31T12:21:22.690854Z",
     "shell.execute_reply": "2024-10-31T12:21:22.689856Z",
     "shell.execute_reply.started": "2024-10-31T12:21:22.456066Z"
    },
    "trusted": true
   },
   "outputs": [],
   "source": [
    "# Bar Chart: Number of Movies Released by Years\n",
    "df['year'].plot(kind='hist', bins=range(df['year'].min(), df['year'].max() + 1), edgecolor='black')\n",
    "\n",
    "plt.title('Number of Movies Released by Years')\n",
    "\n",
    "plt.xlabel('Year')\n",
    "plt.ylabel('Number of Movies')\n",
    "\n",
    "plt.show()"
   ]
  },
  {
   "cell_type": "markdown",
   "metadata": {},
   "source": [
    "<p style=\"background-color:#F6C800; font-family:Verdana, sans-serif; color:#000000; font-size:150%; text-align:left; border-radius:50px; padding:10px;\"><b>4.2.| The 10 Most Filmed Genres</b></p>"
   ]
  },
  {
   "cell_type": "code",
   "execution_count": null,
   "metadata": {
    "execution": {
     "iopub.execute_input": "2024-10-31T12:21:22.692367Z",
     "iopub.status.busy": "2024-10-31T12:21:22.692056Z",
     "iopub.status.idle": "2024-10-31T12:21:22.705665Z",
     "shell.execute_reply": "2024-10-31T12:21:22.704553Z",
     "shell.execute_reply.started": "2024-10-31T12:21:22.692335Z"
    },
    "trusted": true
   },
   "outputs": [],
   "source": [
    "# Stacking genre\n",
    "top250[\"genre\"].str.split(\",\", expand=True).stack().value_counts()"
   ]
  },
  {
   "cell_type": "markdown",
   "metadata": {},
   "source": [
    "<p style=\"background-color:#000000; font-family:Verdana, sans-serif; color:#F6C800; font-size:150%; text-align:left; border-radius:50px; padding:10px;\"><b>4.2.1.| Bar Chart: The 10 Most Filmed Genres</b></p>"
   ]
  },
  {
   "cell_type": "code",
   "execution_count": null,
   "metadata": {
    "ExecuteTime": {
     "end_time": "2023-09-24T15:09:03.147386Z",
     "start_time": "2023-09-24T15:09:02.468797Z"
    },
    "execution": {
     "iopub.execute_input": "2024-10-31T12:21:22.707125Z",
     "iopub.status.busy": "2024-10-31T12:21:22.706764Z",
     "iopub.status.idle": "2024-10-31T12:21:23.076471Z",
     "shell.execute_reply": "2024-10-31T12:21:23.075458Z",
     "shell.execute_reply.started": "2024-10-31T12:21:22.707091Z"
    },
    "trusted": true
   },
   "outputs": [],
   "source": [
    "top10_genres = top250[\"genre\"].str.split(\",\", expand=True).stack().value_counts()[:10]\n",
    "\n",
    "sns.set_style(\"whitegrid\")\n",
    "\n",
    "plt.figure(figsize=(10,6))\n",
    "\n",
    "ax = sns.barplot(   x=top10_genres.values, \n",
    "                    y=top10_genres.index, \n",
    "                    palette=\"colorblind\")\n",
    "\n",
    "for container in ax.containers:\n",
    "    ax.bar_label(   container, \n",
    "                    fmt='%d', \n",
    "                    label_type='edge', \n",
    "                    fontsize=12, \n",
    "                    color='black', \n",
    "                    padding=3)\n",
    "    \n",
    "ax.set(xlabel='Number of Movies', ylabel='Genres')\n",
    "\n",
    "plt.title(\"Top 10 Movie Genres\")\n",
    "\n",
    "plt.show()"
   ]
  },
  {
   "cell_type": "markdown",
   "metadata": {},
   "source": [
    "<p style=\"background-color:#000000; font-family:Verdana, sans-serif; color:#F6C800; font-size:150%; text-align:left; border-radius:50px; padding:10px;\"><b>4.2.2.| Donut Chart: The 10 Most Filmed Genres</b></p>"
   ]
  },
  {
   "cell_type": "code",
   "execution_count": null,
   "metadata": {
    "execution": {
     "iopub.execute_input": "2024-10-31T12:21:23.078191Z",
     "iopub.status.busy": "2024-10-31T12:21:23.077855Z",
     "iopub.status.idle": "2024-10-31T12:21:24.596482Z",
     "shell.execute_reply": "2024-10-31T12:21:24.595483Z",
     "shell.execute_reply.started": "2024-10-31T12:21:23.078158Z"
    },
    "trusted": true
   },
   "outputs": [],
   "source": [
    "top_genres = top250[\"genre\"].str.split(\",\", expand=True).stack().value_counts()[:10]\n",
    "\n",
    "fig = px.pie(   values=top_genres.values, names=top_genres.index,\n",
    "                title='The 10 most filmed genres',\n",
    "                labels={'value': 'Number', 'names': 'Genres'},\n",
    "                hover_data={'value': top_genres.values, 'names': top_genres.index},\n",
    "                hole=0.5)\n",
    "\n",
    "fig.update_traces(textposition='inside', textinfo='percent+value', textfont_size=12)\n",
    "\n",
    "fig.update_traces(marker=dict(line=dict(color='white', width=2)))\n",
    "\n",
    "fig.show()"
   ]
  },
  {
   "cell_type": "markdown",
   "metadata": {},
   "source": [
    "<p style=\"background-color:#000000; font-family:Verdana, sans-serif; color:#F6C800; font-size:150%; text-align:left; border-radius:50px; padding:10px;\"><b>4.2.3.| Pie Chart: The 10 Most Filmed Genres</b></p>"
   ]
  },
  {
   "cell_type": "code",
   "execution_count": null,
   "metadata": {
    "execution": {
     "iopub.execute_input": "2024-10-31T12:21:24.598256Z",
     "iopub.status.busy": "2024-10-31T12:21:24.597803Z",
     "iopub.status.idle": "2024-10-31T12:21:24.880562Z",
     "shell.execute_reply": "2024-10-31T12:21:24.879538Z",
     "shell.execute_reply.started": "2024-10-31T12:21:24.598220Z"
    },
    "trusted": true
   },
   "outputs": [],
   "source": [
    "top_genres = top250[\"genre\"].str.split(\",\", expand=True).stack().value_counts()[:10]\n",
    "\n",
    "fig, ax = plt.subplots(figsize=(8, 8))\n",
    "\n",
    "ax.pie(top_genres.values, \n",
    "       labels=top_genres.index, \n",
    "       autopct='%1.1f%%', \n",
    "       startangle=90,\n",
    "       explode=(0.3, 0.0, 0, 0, 0, 0.0, 0, 0, 0, 0), \n",
    "       shadow = 0.1, \n",
    "       textprops={'fontsize': 10})\n",
    "\n",
    "\n",
    "ax.set_title('The 10 Most Filmed Genres', fontsize=16, fontweight='bold')\n",
    "\n",
    "ax.axis('equal')\n",
    "\n",
    "plt.show()"
   ]
  },
  {
   "cell_type": "markdown",
   "metadata": {},
   "source": [
    "<p style=\"background-color:#F6C800; font-family:Verdana, sans-serif; color:#000000; font-size:150%; text-align:left; border-radius:50px; padding:10px;\"><b>4.3.| Top 10 Directors Who Directed the Most Movies</b></p>"
   ]
  },
  {
   "cell_type": "code",
   "execution_count": null,
   "metadata": {
    "execution": {
     "iopub.execute_input": "2024-10-31T12:21:24.882777Z",
     "iopub.status.busy": "2024-10-31T12:21:24.881884Z",
     "iopub.status.idle": "2024-10-31T12:21:24.898255Z",
     "shell.execute_reply": "2024-10-31T12:21:24.896999Z",
     "shell.execute_reply.started": "2024-10-31T12:21:24.882729Z"
    },
    "trusted": true
   },
   "outputs": [],
   "source": [
    "# top 10 directors\n",
    "director_counts = df['director'].str.split(', ', expand=True).stack().value_counts()[1:11]\n",
    "director_counts"
   ]
  },
  {
   "cell_type": "code",
   "execution_count": null,
   "metadata": {
    "execution": {
     "iopub.execute_input": "2024-10-31T12:21:24.900450Z",
     "iopub.status.busy": "2024-10-31T12:21:24.899892Z",
     "iopub.status.idle": "2024-10-31T12:21:25.271387Z",
     "shell.execute_reply": "2024-10-31T12:21:25.270357Z",
     "shell.execute_reply.started": "2024-10-31T12:21:24.900406Z"
    },
    "trusted": true
   },
   "outputs": [],
   "source": [
    "# Top 10 Directors Who Directed the Most Movies\n",
    "sns.set_style(\"whitegrid\")\n",
    "\n",
    "plt.figure(figsize=(10,6))\n",
    "\n",
    "ax = sns.barplot(x=director_counts.values, y=director_counts.index, palette=\"turbo\")\n",
    "\n",
    "for container in ax.containers:\n",
    "    ax.bar_label(container, fmt='%d', label_type='edge', fontsize=12, color='black', padding=3)\n",
    "    \n",
    "ax.set(xlabel='Number of Movies', ylabel='Directors')\n",
    "\n",
    "plt.title(\"Top 10 Directors Who Directed the Most Movies\")\n",
    "\n",
    "plt.show()"
   ]
  },
  {
   "cell_type": "markdown",
   "metadata": {},
   "source": [
    "<p style=\"background-color:#F6C800; font-family:Verdana, sans-serif; color:#000000; font-size:150%; text-align:left; border-radius:50px; padding:10px;\"><b>4.4.| Top 20 Actors/Actress Appeared In The Most Movies</b></p>"
   ]
  },
  {
   "cell_type": "code",
   "execution_count": null,
   "metadata": {
    "execution": {
     "iopub.execute_input": "2024-10-31T12:21:25.273349Z",
     "iopub.status.busy": "2024-10-31T12:21:25.272689Z",
     "iopub.status.idle": "2024-10-31T12:21:25.284712Z",
     "shell.execute_reply": "2024-10-31T12:21:25.283693Z",
     "shell.execute_reply.started": "2024-10-31T12:21:25.273313Z"
    },
    "trusted": true
   },
   "outputs": [],
   "source": [
    "# Using counter from collections Library\n",
    "actors_counter = Counter()\n",
    "\n",
    "for actors in df['actors']:\n",
    "    actors_list = [actor.strip() for actor in actors.split(',')]\n",
    "    actors_counter.update(actors_list)\n",
    "\n",
    "top_actors = actors_counter.most_common(20)\n",
    "top_actors"
   ]
  },
  {
   "cell_type": "code",
   "execution_count": null,
   "metadata": {
    "execution": {
     "iopub.execute_input": "2024-10-31T12:21:25.286684Z",
     "iopub.status.busy": "2024-10-31T12:21:25.286228Z",
     "iopub.status.idle": "2024-10-31T12:21:26.008929Z",
     "shell.execute_reply": "2024-10-31T12:21:26.007797Z",
     "shell.execute_reply.started": "2024-10-31T12:21:25.286636Z"
    },
    "trusted": true
   },
   "outputs": [],
   "source": [
    "top_actors_df = pd.DataFrame(top_actors, columns=[\"Actor\", \"Movie Count\"])\n",
    "\n",
    "sns.set_style('whitegrid')\n",
    "\n",
    "plt.figure(figsize=(10,8))\n",
    "\n",
    "ax = sns.barplot(x='Movie Count', y='Actor', data=top_actors_df, palette='plasma')\n",
    "\n",
    "for container in ax.containers:\n",
    "    ax.bar_label(container, fmt='%d', label_type='edge', fontsize=12, color='black', padding=3)\n",
    "    \n",
    "sns.despine(left=True)\n",
    "\n",
    "plt.title('Top 20 Actors/Actress Appeared In The Most Movies', fontsize=16)\n",
    "plt.xlabel('Number of Movie Roles', fontsize=14)\n",
    "plt.ylabel('Actor/Actress', fontsize=14)\n",
    "\n",
    "plt.xticks(fontsize=12, rotation=0)\n",
    "\n",
    "plt.yticks(fontsize=12)\n",
    "\n",
    "plt.tight_layout()\n",
    "\n",
    "plt.show()"
   ]
  },
  {
   "cell_type": "markdown",
   "metadata": {},
   "source": [
    "<p style=\"background-color:#F6C800; font-family:Verdana, sans-serif; color:#000000; font-size:150%; text-align:left; border-radius:50px; padding:10px;\"><b>4.4.| Revenue of 250 Popular Movies According to Rating Scores</b></p>"
   ]
  },
  {
   "cell_type": "code",
   "execution_count": null,
   "metadata": {
    "execution": {
     "iopub.execute_input": "2024-10-31T12:21:26.010755Z",
     "iopub.status.busy": "2024-10-31T12:21:26.010345Z",
     "iopub.status.idle": "2024-10-31T12:21:26.140045Z",
     "shell.execute_reply": "2024-10-31T12:21:26.139047Z",
     "shell.execute_reply.started": "2024-10-31T12:21:26.010713Z"
    },
    "trusted": true
   },
   "outputs": [],
   "source": [
    "df = top250.sort_values(\"rating\", ascending=False)\n",
    "\n",
    "fig = px.scatter(   df, \n",
    "                    x=df.index, \n",
    "                    y=\"revenue\", \n",
    "                    size=\"rating\", \n",
    "                    color=\"rating\")\n",
    "\n",
    "fig.update_layout(  title=\"Revenue of 250 Popular Movies According to Rating Scores\", \n",
    "                    height=800, \n",
    "                    width=1000, \n",
    "                    title_x = 0.5, \n",
    "                    xaxis_tickangle=-45)\n",
    "\n",
    "fig.update_yaxes(title=\"Income (Million $)\", range=[-10, 500], dtick=50)\n",
    "\n",
    "fig.update_traces(mode='markers', marker=dict(sizemode='diameter', sizeref=0.5))\n",
    "\n",
    "fig.show()"
   ]
  },
  {
   "cell_type": "markdown",
   "metadata": {},
   "source": [
    "<p style=\"background-color:#F6C800; font-family:Verdana, sans-serif; color:#000000; font-size:150%; text-align:left; border-radius:50px; padding:10px;\"><b>4.5.| Relationship Between Ratings and Number of Votes</b></p>"
   ]
  },
  {
   "cell_type": "code",
   "execution_count": null,
   "metadata": {
    "execution": {
     "iopub.execute_input": "2024-10-31T12:21:26.141515Z",
     "iopub.status.busy": "2024-10-31T12:21:26.141195Z",
     "iopub.status.idle": "2024-10-31T12:21:26.458252Z",
     "shell.execute_reply": "2024-10-31T12:21:26.457135Z",
     "shell.execute_reply.started": "2024-10-31T12:21:26.141482Z"
    },
    "trusted": true
   },
   "outputs": [],
   "source": [
    "# Scatter Plot: Relationship Between Ratings and Number of Votes\n",
    "plt.scatter(df['rating'], df['votes'], alpha=0.5)\n",
    "plt.title('Relationship Between Ratings and Number of Votes')\n",
    "plt.xlabel('Rating')\n",
    "plt.ylabel('Votes')\n",
    "plt.show()"
   ]
  },
  {
   "cell_type": "markdown",
   "metadata": {},
   "source": [
    "<p style=\"background-color:#F6C800; font-family:Verdana, sans-serif; color:#000000; font-size:150%; text-align:left; border-radius:50px; padding:10px;\"><b>4.6.| IMDB Correlation Between Columns</b></p>"
   ]
  },
  {
   "cell_type": "code",
   "execution_count": null,
   "metadata": {
    "execution": {
     "iopub.execute_input": "2024-10-31T12:21:26.460063Z",
     "iopub.status.busy": "2024-10-31T12:21:26.459623Z",
     "iopub.status.idle": "2024-10-31T12:21:26.474686Z",
     "shell.execute_reply": "2024-10-31T12:21:26.473519Z",
     "shell.execute_reply.started": "2024-10-31T12:21:26.460015Z"
    },
    "trusted": true
   },
   "outputs": [],
   "source": [
    "df.select_dtypes(exclude=\"object\").sample(10)"
   ]
  },
  {
   "cell_type": "code",
   "execution_count": null,
   "metadata": {
    "execution": {
     "iopub.execute_input": "2024-10-31T12:21:26.476380Z",
     "iopub.status.busy": "2024-10-31T12:21:26.476041Z",
     "iopub.status.idle": "2024-10-31T12:21:27.008994Z",
     "shell.execute_reply": "2024-10-31T12:21:27.007905Z",
     "shell.execute_reply.started": "2024-10-31T12:21:26.476345Z"
    },
    "trusted": true
   },
   "outputs": [],
   "source": [
    "plt.figure(figsize=(10, 8))\n",
    "\n",
    "numeric_df = df.select_dtypes(exclude=\"object\")\n",
    "\n",
    "sns.heatmap(numeric_df.corr(), annot=True, cmap='coolwarm')\n",
    "plt.title('IMDB Correlation Between Columns', fontsize=18)\n",
    "plt.show()"
   ]
  },
  {
   "cell_type": "markdown",
   "metadata": {},
   "source": [
    "<a id='step-5'></a>\n",
    "# <p style=\"background-color:#000000; font-family:Verdana, sans-serif; color:#F6C800; font-size:100%; text-align:center; border-radius:10px; padding:20px;\"><b>5| Conclusion</b></p>"
   ]
  },
  {
   "cell_type": "markdown",
   "metadata": {},
   "source": [
    "The project provides a comprehensive exploration of a movie dataset, from data cleaning and handling missing values to detailed exploratory analysis and visualizations. The outcomes will offer insights into:\n",
    "\n",
    "- The revenue trends over the years.\n",
    "- Genre-based and director-specific patterns.\n",
    "- Relationships between movie runtime, ratings, and revenue.\n",
    "\n",
    "The visualizations will enhance understanding of movie attributes and highlight key trends and insights within the dataset, leading to meaningful conclusions about popular genres, successful directors, and other significant factors in the movie industry."
   ]
  },
  {
   "cell_type": "markdown",
   "metadata": {},
   "source": [
    "<p style=\"background-color:#000000; font-family:Arial, sans-serif; color:#F6C800; font-size:200%; text-align:center; border-radius:30px; padding:20px;\"><b></b>🌟 THANK YOU for reviewing my project! 🌟</p>"
   ]
  }
 ],
 "metadata": {
  "hide_input": false,
  "kaggle": {
   "accelerator": "none",
   "dataSources": [
    {
     "datasetId": 5980876,
     "sourceId": 9765717,
     "sourceType": "datasetVersion"
    }
   ],
   "dockerImageVersionId": 30786,
   "isGpuEnabled": false,
   "isInternetEnabled": true,
   "language": "python",
   "sourceType": "notebook"
  },
  "kernelspec": {
   "display_name": "Python 3",
   "language": "python",
   "name": "python3"
  },
  "language_info": {
   "codemirror_mode": {
    "name": "ipython",
    "version": 3
   },
   "file_extension": ".py",
   "mimetype": "text/x-python",
   "name": "python",
   "nbconvert_exporter": "python",
   "pygments_lexer": "ipython3",
   "version": "3.10.14"
  },
  "toc": {
   "base_numbering": 1,
   "nav_menu": {},
   "number_sections": true,
   "sideBar": true,
   "skip_h1_title": false,
   "title_cell": "Table of Contents",
   "title_sidebar": "Contents",
   "toc_cell": false,
   "toc_position": {},
   "toc_section_display": true,
   "toc_window_display": true
  }
 },
 "nbformat": 4,
 "nbformat_minor": 4
}
